{
 "cells": [
  {
   "attachments": {},
   "cell_type": "markdown",
   "id": "378d4c8c",
   "metadata": {},
   "source": [
    "### Daten importieren"
   ]
  },
  {
   "cell_type": "code",
   "execution_count": 4,
   "id": "595e3437",
   "metadata": {},
   "outputs": [],
   "source": [
    "import pandas as pd\n",
    "import plotly.express as px\n",
    "import numpy as np"
   ]
  },
  {
   "attachments": {},
   "cell_type": "markdown",
   "id": "d0126454",
   "metadata": {},
   "source": [
    "### Daten auslesen"
   ]
  },
  {
   "cell_type": "code",
   "execution_count": 5,
   "id": "19cf348f",
   "metadata": {},
   "outputs": [
    {
     "data": {
      "text/html": [
       "<div>\n",
       "<style scoped>\n",
       "    .dataframe tbody tr th:only-of-type {\n",
       "        vertical-align: middle;\n",
       "    }\n",
       "\n",
       "    .dataframe tbody tr th {\n",
       "        vertical-align: top;\n",
       "    }\n",
       "\n",
       "    .dataframe thead th {\n",
       "        text-align: right;\n",
       "    }\n",
       "</style>\n",
       "<table border=\"1\" class=\"dataframe\">\n",
       "  <thead>\n",
       "    <tr style=\"text-align: right;\">\n",
       "      <th></th>\n",
       "      <th>Name</th>\n",
       "      <th>Höhe</th>\n",
       "      <th>Lebenserwartung</th>\n",
       "      <th>Herkunftskontinent</th>\n",
       "      <th>Farbe</th>\n",
       "      <th>Klima</th>\n",
       "      <th>Geschnittene Blume</th>\n",
       "      <th>Parfum</th>\n",
       "      <th>Medizin</th>\n",
       "      <th>Durchschnittliche Anzhal Blätter</th>\n",
       "    </tr>\n",
       "  </thead>\n",
       "  <tbody>\n",
       "    <tr>\n",
       "      <th>0</th>\n",
       "      <td>Rose</td>\n",
       "      <td>60-150</td>\n",
       "      <td>1-2</td>\n",
       "      <td>Europe, Asia</td>\n",
       "      <td>Red, pink, white</td>\n",
       "      <td>Temperate</td>\n",
       "      <td>1</td>\n",
       "      <td>1</td>\n",
       "      <td>1</td>\n",
       "      <td>5-9</td>\n",
       "    </tr>\n",
       "    <tr>\n",
       "      <th>1</th>\n",
       "      <td>Tulip</td>\n",
       "      <td>20-70</td>\n",
       "      <td>2-3</td>\n",
       "      <td>Central Asia</td>\n",
       "      <td>Red, pink, white</td>\n",
       "      <td>Temperate</td>\n",
       "      <td>1</td>\n",
       "      <td>0</td>\n",
       "      <td>1</td>\n",
       "      <td>3-7</td>\n",
       "    </tr>\n",
       "    <tr>\n",
       "      <th>2</th>\n",
       "      <td>Daisy</td>\n",
       "      <td>15-60</td>\n",
       "      <td>1-2</td>\n",
       "      <td>Europe, Asia</td>\n",
       "      <td>White, yellow</td>\n",
       "      <td>Temperate</td>\n",
       "      <td>1</td>\n",
       "      <td>0</td>\n",
       "      <td>1</td>\n",
       "      <td>10-20</td>\n",
       "    </tr>\n",
       "    <tr>\n",
       "      <th>3</th>\n",
       "      <td>Sunflower</td>\n",
       "      <td>50-300</td>\n",
       "      <td>1-2</td>\n",
       "      <td>North and South America</td>\n",
       "      <td>Yellow, orange</td>\n",
       "      <td>Temperate to tropical</td>\n",
       "      <td>1</td>\n",
       "      <td>0</td>\n",
       "      <td>1</td>\n",
       "      <td>10-20</td>\n",
       "    </tr>\n",
       "    <tr>\n",
       "      <th>4</th>\n",
       "      <td>Orchid</td>\n",
       "      <td>20-100</td>\n",
       "      <td>5-10</td>\n",
       "      <td>Worldwide</td>\n",
       "      <td>Purple, pink, white</td>\n",
       "      <td>Tropical</td>\n",
       "      <td>1</td>\n",
       "      <td>1</td>\n",
       "      <td>1</td>\n",
       "      <td>3-50</td>\n",
       "    </tr>\n",
       "    <tr>\n",
       "      <th>...</th>\n",
       "      <td>...</td>\n",
       "      <td>...</td>\n",
       "      <td>...</td>\n",
       "      <td>...</td>\n",
       "      <td>...</td>\n",
       "      <td>...</td>\n",
       "      <td>...</td>\n",
       "      <td>...</td>\n",
       "      <td>...</td>\n",
       "      <td>...</td>\n",
       "    </tr>\n",
       "    <tr>\n",
       "      <th>67</th>\n",
       "      <td>Hyacinth</td>\n",
       "      <td>10-20</td>\n",
       "      <td>1-2</td>\n",
       "      <td>Europe, Asia</td>\n",
       "      <td>Purple, pink, white</td>\n",
       "      <td>Temperate</td>\n",
       "      <td>1</td>\n",
       "      <td>0</td>\n",
       "      <td>1</td>\n",
       "      <td>5-10</td>\n",
       "    </tr>\n",
       "    <tr>\n",
       "      <th>68</th>\n",
       "      <td>Iris reticulata</td>\n",
       "      <td>10-20</td>\n",
       "      <td>1-2</td>\n",
       "      <td>Europe, Asia</td>\n",
       "      <td>Purple, pink, white</td>\n",
       "      <td>Temperate</td>\n",
       "      <td>1</td>\n",
       "      <td>0</td>\n",
       "      <td>1</td>\n",
       "      <td>5-10</td>\n",
       "    </tr>\n",
       "    <tr>\n",
       "      <th>69</th>\n",
       "      <td>Chionodoxa</td>\n",
       "      <td>10-20</td>\n",
       "      <td>1-2</td>\n",
       "      <td>Europe, Asia</td>\n",
       "      <td>Purple, pink, white</td>\n",
       "      <td>Temperate</td>\n",
       "      <td>1</td>\n",
       "      <td>0</td>\n",
       "      <td>1</td>\n",
       "      <td>5-10</td>\n",
       "    </tr>\n",
       "    <tr>\n",
       "      <th>70</th>\n",
       "      <td>Anemone</td>\n",
       "      <td>10-20</td>\n",
       "      <td>1-2</td>\n",
       "      <td>Europe, Asia</td>\n",
       "      <td>Purple, pink, white</td>\n",
       "      <td>Temperate</td>\n",
       "      <td>1</td>\n",
       "      <td>0</td>\n",
       "      <td>1</td>\n",
       "      <td>5-10</td>\n",
       "    </tr>\n",
       "    <tr>\n",
       "      <th>71</th>\n",
       "      <td>Scilla</td>\n",
       "      <td>10-20</td>\n",
       "      <td>1-2</td>\n",
       "      <td>Europe, Asia</td>\n",
       "      <td>Purple, pink, white</td>\n",
       "      <td>Temperate</td>\n",
       "      <td>1</td>\n",
       "      <td>0</td>\n",
       "      <td>1</td>\n",
       "      <td>5-10</td>\n",
       "    </tr>\n",
       "  </tbody>\n",
       "</table>\n",
       "<p>72 rows × 10 columns</p>\n",
       "</div>"
      ],
      "text/plain": [
       "               Name    Höhe Lebenserwartung       Herkunftskontinent  \\\n",
       "0              Rose  60-150             1-2             Europe, Asia   \n",
       "1             Tulip   20-70             2-3             Central Asia   \n",
       "2             Daisy   15-60             1-2             Europe, Asia   \n",
       "3         Sunflower  50-300             1-2  North and South America   \n",
       "4            Orchid  20-100            5-10                Worldwide   \n",
       "..              ...     ...             ...                      ...   \n",
       "67         Hyacinth   10-20             1-2             Europe, Asia   \n",
       "68  Iris reticulata   10-20             1-2             Europe, Asia   \n",
       "69       Chionodoxa   10-20             1-2             Europe, Asia   \n",
       "70          Anemone   10-20             1-2             Europe, Asia   \n",
       "71           Scilla   10-20             1-2             Europe, Asia   \n",
       "\n",
       "                  Farbe                  Klima  Geschnittene Blume  Parfum  \\\n",
       "0      Red, pink, white              Temperate                   1       1   \n",
       "1      Red, pink, white              Temperate                   1       0   \n",
       "2         White, yellow              Temperate                   1       0   \n",
       "3        Yellow, orange  Temperate to tropical                   1       0   \n",
       "4   Purple, pink, white               Tropical                   1       1   \n",
       "..                  ...                    ...                 ...     ...   \n",
       "67  Purple, pink, white              Temperate                   1       0   \n",
       "68  Purple, pink, white              Temperate                   1       0   \n",
       "69  Purple, pink, white              Temperate                   1       0   \n",
       "70  Purple, pink, white              Temperate                   1       0   \n",
       "71  Purple, pink, white              Temperate                   1       0   \n",
       "\n",
       "    Medizin Durchschnittliche Anzhal Blätter  \n",
       "0         1                              5-9  \n",
       "1         1                              3-7  \n",
       "2         1                            10-20  \n",
       "3         1                            10-20  \n",
       "4         1                             3-50  \n",
       "..      ...                              ...  \n",
       "67        1                             5-10  \n",
       "68        1                             5-10  \n",
       "69        1                             5-10  \n",
       "70        1                             5-10  \n",
       "71        1                             5-10  \n",
       "\n",
       "[72 rows x 10 columns]"
      ]
     },
     "metadata": {},
     "output_type": "display_data"
    }
   ],
   "source": [
    "df = pd.read_csv('flower_data.csv')\n",
    "\n",
    "dict = {'name': 'Name',\n",
    "        'height (cm)': 'Höhe',\n",
    "        'longevity (years)': 'Lebenserwartung',\n",
    "        'place of origin': 'Herkunftskontinent',\n",
    "        'color': 'Farbe',\n",
    "        'climate': 'Klima',\n",
    "        'cut flowers': 'Geschnittene Blume',\n",
    "        'perfumes': 'Parfum',\n",
    "        'medicine': 'Medizin',\n",
    "        'average number of petals': 'Durchschnittliche Anzhal Blätter'}\n",
    "\n",
    "df.rename(columns=dict, inplace=True)\n",
    "\n",
    "display(df)"
   ]
  },
  {
   "attachments": {},
   "cell_type": "markdown",
   "id": "096d718e",
   "metadata": {},
   "source": [
    "### Daten filtern"
   ]
  },
  {
   "cell_type": "code",
   "execution_count": 6,
   "id": "4aadb4cd",
   "metadata": {},
   "outputs": [
    {
     "data": {
      "text/html": [
       "<div>\n",
       "<style scoped>\n",
       "    .dataframe tbody tr th:only-of-type {\n",
       "        vertical-align: middle;\n",
       "    }\n",
       "\n",
       "    .dataframe tbody tr th {\n",
       "        vertical-align: top;\n",
       "    }\n",
       "\n",
       "    .dataframe thead th {\n",
       "        text-align: right;\n",
       "    }\n",
       "</style>\n",
       "<table border=\"1\" class=\"dataframe\">\n",
       "  <thead>\n",
       "    <tr style=\"text-align: right;\">\n",
       "      <th></th>\n",
       "      <th>Name</th>\n",
       "      <th>Höhe</th>\n",
       "      <th>Lebenserwartung</th>\n",
       "      <th>Herkunftskontinent</th>\n",
       "      <th>Farbe</th>\n",
       "      <th>Klima</th>\n",
       "      <th>Geschnittene Blume</th>\n",
       "      <th>Parfum</th>\n",
       "      <th>Medizin</th>\n",
       "      <th>Durchschnittliche Anzhal Blätter</th>\n",
       "    </tr>\n",
       "  </thead>\n",
       "  <tbody>\n",
       "    <tr>\n",
       "      <th>0</th>\n",
       "      <td>Rose</td>\n",
       "      <td>60-150</td>\n",
       "      <td>1-2</td>\n",
       "      <td>Europe</td>\n",
       "      <td>Red, pink, white</td>\n",
       "      <td>Temperate</td>\n",
       "      <td>1</td>\n",
       "      <td>1</td>\n",
       "      <td>1</td>\n",
       "      <td>5-9</td>\n",
       "    </tr>\n",
       "    <tr>\n",
       "      <th>0</th>\n",
       "      <td>Rose</td>\n",
       "      <td>60-150</td>\n",
       "      <td>1-2</td>\n",
       "      <td>Asia</td>\n",
       "      <td>Red, pink, white</td>\n",
       "      <td>Temperate</td>\n",
       "      <td>1</td>\n",
       "      <td>1</td>\n",
       "      <td>1</td>\n",
       "      <td>5-9</td>\n",
       "    </tr>\n",
       "    <tr>\n",
       "      <th>2</th>\n",
       "      <td>Daisy</td>\n",
       "      <td>15-60</td>\n",
       "      <td>1-2</td>\n",
       "      <td>Europe</td>\n",
       "      <td>White, yellow</td>\n",
       "      <td>Temperate</td>\n",
       "      <td>1</td>\n",
       "      <td>0</td>\n",
       "      <td>1</td>\n",
       "      <td>10-20</td>\n",
       "    </tr>\n",
       "    <tr>\n",
       "      <th>2</th>\n",
       "      <td>Daisy</td>\n",
       "      <td>15-60</td>\n",
       "      <td>1-2</td>\n",
       "      <td>Asia</td>\n",
       "      <td>White, yellow</td>\n",
       "      <td>Temperate</td>\n",
       "      <td>1</td>\n",
       "      <td>0</td>\n",
       "      <td>1</td>\n",
       "      <td>10-20</td>\n",
       "    </tr>\n",
       "    <tr>\n",
       "      <th>5</th>\n",
       "      <td>Jasmine</td>\n",
       "      <td>60-180</td>\n",
       "      <td>5-10</td>\n",
       "      <td>Asia</td>\n",
       "      <td>White, yellow</td>\n",
       "      <td>Tropical</td>\n",
       "      <td>1</td>\n",
       "      <td>1</td>\n",
       "      <td>1</td>\n",
       "      <td>5-9</td>\n",
       "    </tr>\n",
       "  </tbody>\n",
       "</table>\n",
       "</div>"
      ],
      "text/plain": [
       "      Name    Höhe Lebenserwartung Herkunftskontinent             Farbe  \\\n",
       "0     Rose  60-150             1-2             Europe  Red, pink, white   \n",
       "0     Rose  60-150             1-2               Asia  Red, pink, white   \n",
       "2    Daisy   15-60             1-2             Europe     White, yellow   \n",
       "2    Daisy   15-60             1-2               Asia     White, yellow   \n",
       "5  Jasmine  60-180            5-10               Asia     White, yellow   \n",
       "\n",
       "       Klima  Geschnittene Blume  Parfum  Medizin  \\\n",
       "0  Temperate                   1       1        1   \n",
       "0  Temperate                   1       1        1   \n",
       "2  Temperate                   1       0        1   \n",
       "2  Temperate                   1       0        1   \n",
       "5   Tropical                   1       1        1   \n",
       "\n",
       "  Durchschnittliche Anzhal Blätter  \n",
       "0                              5-9  \n",
       "0                              5-9  \n",
       "2                            10-20  \n",
       "2                            10-20  \n",
       "5                              5-9  "
      ]
     },
     "execution_count": 6,
     "metadata": {},
     "output_type": "execute_result"
    }
   ],
   "source": [
    "# Split the \"Herkunftskontinent\" column\n",
    "df[\"Herkunftskontinent\"] = df[\"Herkunftskontinent\"].str.split(\", \")\n",
    "\n",
    "# Explode the DataFrame\n",
    "df = df.explode(\"Herkunftskontinent\")\n",
    "\n",
    "# Filter the DataFrame for \"Asia\" and \"Europe\"\n",
    "df_filtered = df.loc[df[\"Herkunftskontinent\"].isin([\"Asia\", \"Europe\"])]\n",
    "\n",
    "# Print the resulting DataFrame\n",
    "df_filtered.head()"
   ]
  },
  {
   "attachments": {},
   "cell_type": "markdown",
   "id": "9eb53e91",
   "metadata": {},
   "source": [
    "### Kreis-Diagramm: Herkunftskontinent"
   ]
  },
  {
   "cell_type": "code",
   "execution_count": 7,
   "id": "eb38047f",
   "metadata": {},
   "outputs": [
    {
     "data": {
      "application/vnd.plotly.v1+json": {
       "config": {
        "plotlyServerURL": "https://plot.ly"
       },
       "data": [
        {
         "domain": {
          "x": [
           0,
           1
          ],
          "y": [
           0,
           1
          ]
         },
         "hole": 0.5,
         "hovertemplate": "label=%{label}<br>value=%{value}<extra></extra>",
         "labels": [
          "Asia",
          "Europe",
          "North and South America",
          "Africa",
          "South America",
          "South and Central America",
          "Central Asia",
          "Worldwide",
          "Mediterranean region",
          "South Africa",
          "Americas"
         ],
         "legendgroup": "",
         "name": "",
         "showlegend": true,
         "type": "pie",
         "values": [
          49,
          41,
          10,
          3,
          3,
          2,
          1,
          1,
          1,
          1,
          1
         ]
        }
       ],
       "layout": {
        "font": {
         "family": "Arial",
         "size": 12
        },
        "legend": {
         "title": {
          "text": "Kontinente"
         },
         "tracegroupgap": 0,
         "x": 0.75,
         "y": 0.5
        },
        "piecolorway": [
         "rgb(102, 197, 204)",
         "rgb(246, 207, 113)",
         "rgb(248, 156, 116)",
         "rgb(220, 176, 242)",
         "rgb(135, 197, 95)",
         "rgb(158, 185, 243)",
         "rgb(254, 136, 177)",
         "rgb(201, 219, 116)",
         "rgb(139, 224, 164)",
         "rgb(180, 151, 231)",
         "rgb(179, 179, 179)"
        ],
        "template": {
         "data": {
          "bar": [
           {
            "error_x": {
             "color": "#2a3f5f"
            },
            "error_y": {
             "color": "#2a3f5f"
            },
            "marker": {
             "line": {
              "color": "#E5ECF6",
              "width": 0.5
             },
             "pattern": {
              "fillmode": "overlay",
              "size": 10,
              "solidity": 0.2
             }
            },
            "type": "bar"
           }
          ],
          "barpolar": [
           {
            "marker": {
             "line": {
              "color": "#E5ECF6",
              "width": 0.5
             },
             "pattern": {
              "fillmode": "overlay",
              "size": 10,
              "solidity": 0.2
             }
            },
            "type": "barpolar"
           }
          ],
          "carpet": [
           {
            "aaxis": {
             "endlinecolor": "#2a3f5f",
             "gridcolor": "white",
             "linecolor": "white",
             "minorgridcolor": "white",
             "startlinecolor": "#2a3f5f"
            },
            "baxis": {
             "endlinecolor": "#2a3f5f",
             "gridcolor": "white",
             "linecolor": "white",
             "minorgridcolor": "white",
             "startlinecolor": "#2a3f5f"
            },
            "type": "carpet"
           }
          ],
          "choropleth": [
           {
            "colorbar": {
             "outlinewidth": 0,
             "ticks": ""
            },
            "type": "choropleth"
           }
          ],
          "contour": [
           {
            "colorbar": {
             "outlinewidth": 0,
             "ticks": ""
            },
            "colorscale": [
             [
              0,
              "#0d0887"
             ],
             [
              0.1111111111111111,
              "#46039f"
             ],
             [
              0.2222222222222222,
              "#7201a8"
             ],
             [
              0.3333333333333333,
              "#9c179e"
             ],
             [
              0.4444444444444444,
              "#bd3786"
             ],
             [
              0.5555555555555556,
              "#d8576b"
             ],
             [
              0.6666666666666666,
              "#ed7953"
             ],
             [
              0.7777777777777778,
              "#fb9f3a"
             ],
             [
              0.8888888888888888,
              "#fdca26"
             ],
             [
              1,
              "#f0f921"
             ]
            ],
            "type": "contour"
           }
          ],
          "contourcarpet": [
           {
            "colorbar": {
             "outlinewidth": 0,
             "ticks": ""
            },
            "type": "contourcarpet"
           }
          ],
          "heatmap": [
           {
            "colorbar": {
             "outlinewidth": 0,
             "ticks": ""
            },
            "colorscale": [
             [
              0,
              "#0d0887"
             ],
             [
              0.1111111111111111,
              "#46039f"
             ],
             [
              0.2222222222222222,
              "#7201a8"
             ],
             [
              0.3333333333333333,
              "#9c179e"
             ],
             [
              0.4444444444444444,
              "#bd3786"
             ],
             [
              0.5555555555555556,
              "#d8576b"
             ],
             [
              0.6666666666666666,
              "#ed7953"
             ],
             [
              0.7777777777777778,
              "#fb9f3a"
             ],
             [
              0.8888888888888888,
              "#fdca26"
             ],
             [
              1,
              "#f0f921"
             ]
            ],
            "type": "heatmap"
           }
          ],
          "heatmapgl": [
           {
            "colorbar": {
             "outlinewidth": 0,
             "ticks": ""
            },
            "colorscale": [
             [
              0,
              "#0d0887"
             ],
             [
              0.1111111111111111,
              "#46039f"
             ],
             [
              0.2222222222222222,
              "#7201a8"
             ],
             [
              0.3333333333333333,
              "#9c179e"
             ],
             [
              0.4444444444444444,
              "#bd3786"
             ],
             [
              0.5555555555555556,
              "#d8576b"
             ],
             [
              0.6666666666666666,
              "#ed7953"
             ],
             [
              0.7777777777777778,
              "#fb9f3a"
             ],
             [
              0.8888888888888888,
              "#fdca26"
             ],
             [
              1,
              "#f0f921"
             ]
            ],
            "type": "heatmapgl"
           }
          ],
          "histogram": [
           {
            "marker": {
             "pattern": {
              "fillmode": "overlay",
              "size": 10,
              "solidity": 0.2
             }
            },
            "type": "histogram"
           }
          ],
          "histogram2d": [
           {
            "colorbar": {
             "outlinewidth": 0,
             "ticks": ""
            },
            "colorscale": [
             [
              0,
              "#0d0887"
             ],
             [
              0.1111111111111111,
              "#46039f"
             ],
             [
              0.2222222222222222,
              "#7201a8"
             ],
             [
              0.3333333333333333,
              "#9c179e"
             ],
             [
              0.4444444444444444,
              "#bd3786"
             ],
             [
              0.5555555555555556,
              "#d8576b"
             ],
             [
              0.6666666666666666,
              "#ed7953"
             ],
             [
              0.7777777777777778,
              "#fb9f3a"
             ],
             [
              0.8888888888888888,
              "#fdca26"
             ],
             [
              1,
              "#f0f921"
             ]
            ],
            "type": "histogram2d"
           }
          ],
          "histogram2dcontour": [
           {
            "colorbar": {
             "outlinewidth": 0,
             "ticks": ""
            },
            "colorscale": [
             [
              0,
              "#0d0887"
             ],
             [
              0.1111111111111111,
              "#46039f"
             ],
             [
              0.2222222222222222,
              "#7201a8"
             ],
             [
              0.3333333333333333,
              "#9c179e"
             ],
             [
              0.4444444444444444,
              "#bd3786"
             ],
             [
              0.5555555555555556,
              "#d8576b"
             ],
             [
              0.6666666666666666,
              "#ed7953"
             ],
             [
              0.7777777777777778,
              "#fb9f3a"
             ],
             [
              0.8888888888888888,
              "#fdca26"
             ],
             [
              1,
              "#f0f921"
             ]
            ],
            "type": "histogram2dcontour"
           }
          ],
          "mesh3d": [
           {
            "colorbar": {
             "outlinewidth": 0,
             "ticks": ""
            },
            "type": "mesh3d"
           }
          ],
          "parcoords": [
           {
            "line": {
             "colorbar": {
              "outlinewidth": 0,
              "ticks": ""
             }
            },
            "type": "parcoords"
           }
          ],
          "pie": [
           {
            "automargin": true,
            "type": "pie"
           }
          ],
          "scatter": [
           {
            "fillpattern": {
             "fillmode": "overlay",
             "size": 10,
             "solidity": 0.2
            },
            "type": "scatter"
           }
          ],
          "scatter3d": [
           {
            "line": {
             "colorbar": {
              "outlinewidth": 0,
              "ticks": ""
             }
            },
            "marker": {
             "colorbar": {
              "outlinewidth": 0,
              "ticks": ""
             }
            },
            "type": "scatter3d"
           }
          ],
          "scattercarpet": [
           {
            "marker": {
             "colorbar": {
              "outlinewidth": 0,
              "ticks": ""
             }
            },
            "type": "scattercarpet"
           }
          ],
          "scattergeo": [
           {
            "marker": {
             "colorbar": {
              "outlinewidth": 0,
              "ticks": ""
             }
            },
            "type": "scattergeo"
           }
          ],
          "scattergl": [
           {
            "marker": {
             "colorbar": {
              "outlinewidth": 0,
              "ticks": ""
             }
            },
            "type": "scattergl"
           }
          ],
          "scattermapbox": [
           {
            "marker": {
             "colorbar": {
              "outlinewidth": 0,
              "ticks": ""
             }
            },
            "type": "scattermapbox"
           }
          ],
          "scatterpolar": [
           {
            "marker": {
             "colorbar": {
              "outlinewidth": 0,
              "ticks": ""
             }
            },
            "type": "scatterpolar"
           }
          ],
          "scatterpolargl": [
           {
            "marker": {
             "colorbar": {
              "outlinewidth": 0,
              "ticks": ""
             }
            },
            "type": "scatterpolargl"
           }
          ],
          "scatterternary": [
           {
            "marker": {
             "colorbar": {
              "outlinewidth": 0,
              "ticks": ""
             }
            },
            "type": "scatterternary"
           }
          ],
          "surface": [
           {
            "colorbar": {
             "outlinewidth": 0,
             "ticks": ""
            },
            "colorscale": [
             [
              0,
              "#0d0887"
             ],
             [
              0.1111111111111111,
              "#46039f"
             ],
             [
              0.2222222222222222,
              "#7201a8"
             ],
             [
              0.3333333333333333,
              "#9c179e"
             ],
             [
              0.4444444444444444,
              "#bd3786"
             ],
             [
              0.5555555555555556,
              "#d8576b"
             ],
             [
              0.6666666666666666,
              "#ed7953"
             ],
             [
              0.7777777777777778,
              "#fb9f3a"
             ],
             [
              0.8888888888888888,
              "#fdca26"
             ],
             [
              1,
              "#f0f921"
             ]
            ],
            "type": "surface"
           }
          ],
          "table": [
           {
            "cells": {
             "fill": {
              "color": "#EBF0F8"
             },
             "line": {
              "color": "white"
             }
            },
            "header": {
             "fill": {
              "color": "#C8D4E3"
             },
             "line": {
              "color": "white"
             }
            },
            "type": "table"
           }
          ]
         },
         "layout": {
          "annotationdefaults": {
           "arrowcolor": "#2a3f5f",
           "arrowhead": 0,
           "arrowwidth": 1
          },
          "autotypenumbers": "strict",
          "coloraxis": {
           "colorbar": {
            "outlinewidth": 0,
            "ticks": ""
           }
          },
          "colorscale": {
           "diverging": [
            [
             0,
             "#8e0152"
            ],
            [
             0.1,
             "#c51b7d"
            ],
            [
             0.2,
             "#de77ae"
            ],
            [
             0.3,
             "#f1b6da"
            ],
            [
             0.4,
             "#fde0ef"
            ],
            [
             0.5,
             "#f7f7f7"
            ],
            [
             0.6,
             "#e6f5d0"
            ],
            [
             0.7,
             "#b8e186"
            ],
            [
             0.8,
             "#7fbc41"
            ],
            [
             0.9,
             "#4d9221"
            ],
            [
             1,
             "#276419"
            ]
           ],
           "sequential": [
            [
             0,
             "#0d0887"
            ],
            [
             0.1111111111111111,
             "#46039f"
            ],
            [
             0.2222222222222222,
             "#7201a8"
            ],
            [
             0.3333333333333333,
             "#9c179e"
            ],
            [
             0.4444444444444444,
             "#bd3786"
            ],
            [
             0.5555555555555556,
             "#d8576b"
            ],
            [
             0.6666666666666666,
             "#ed7953"
            ],
            [
             0.7777777777777778,
             "#fb9f3a"
            ],
            [
             0.8888888888888888,
             "#fdca26"
            ],
            [
             1,
             "#f0f921"
            ]
           ],
           "sequentialminus": [
            [
             0,
             "#0d0887"
            ],
            [
             0.1111111111111111,
             "#46039f"
            ],
            [
             0.2222222222222222,
             "#7201a8"
            ],
            [
             0.3333333333333333,
             "#9c179e"
            ],
            [
             0.4444444444444444,
             "#bd3786"
            ],
            [
             0.5555555555555556,
             "#d8576b"
            ],
            [
             0.6666666666666666,
             "#ed7953"
            ],
            [
             0.7777777777777778,
             "#fb9f3a"
            ],
            [
             0.8888888888888888,
             "#fdca26"
            ],
            [
             1,
             "#f0f921"
            ]
           ]
          },
          "colorway": [
           "#636efa",
           "#EF553B",
           "#00cc96",
           "#ab63fa",
           "#FFA15A",
           "#19d3f3",
           "#FF6692",
           "#B6E880",
           "#FF97FF",
           "#FECB52"
          ],
          "font": {
           "color": "#2a3f5f"
          },
          "geo": {
           "bgcolor": "white",
           "lakecolor": "white",
           "landcolor": "#E5ECF6",
           "showlakes": true,
           "showland": true,
           "subunitcolor": "white"
          },
          "hoverlabel": {
           "align": "left"
          },
          "hovermode": "closest",
          "mapbox": {
           "style": "light"
          },
          "paper_bgcolor": "white",
          "plot_bgcolor": "#E5ECF6",
          "polar": {
           "angularaxis": {
            "gridcolor": "white",
            "linecolor": "white",
            "ticks": ""
           },
           "bgcolor": "#E5ECF6",
           "radialaxis": {
            "gridcolor": "white",
            "linecolor": "white",
            "ticks": ""
           }
          },
          "scene": {
           "xaxis": {
            "backgroundcolor": "#E5ECF6",
            "gridcolor": "white",
            "gridwidth": 2,
            "linecolor": "white",
            "showbackground": true,
            "ticks": "",
            "zerolinecolor": "white"
           },
           "yaxis": {
            "backgroundcolor": "#E5ECF6",
            "gridcolor": "white",
            "gridwidth": 2,
            "linecolor": "white",
            "showbackground": true,
            "ticks": "",
            "zerolinecolor": "white"
           },
           "zaxis": {
            "backgroundcolor": "#E5ECF6",
            "gridcolor": "white",
            "gridwidth": 2,
            "linecolor": "white",
            "showbackground": true,
            "ticks": "",
            "zerolinecolor": "white"
           }
          },
          "shapedefaults": {
           "line": {
            "color": "#2a3f5f"
           }
          },
          "ternary": {
           "aaxis": {
            "gridcolor": "white",
            "linecolor": "white",
            "ticks": ""
           },
           "baxis": {
            "gridcolor": "white",
            "linecolor": "white",
            "ticks": ""
           },
           "bgcolor": "#E5ECF6",
           "caxis": {
            "gridcolor": "white",
            "linecolor": "white",
            "ticks": ""
           }
          },
          "title": {
           "x": 0.05
          },
          "xaxis": {
           "automargin": true,
           "gridcolor": "white",
           "linecolor": "white",
           "ticks": "",
           "title": {
            "standoff": 15
           },
           "zerolinecolor": "white",
           "zerolinewidth": 2
          },
          "yaxis": {
           "automargin": true,
           "gridcolor": "white",
           "linecolor": "white",
           "ticks": "",
           "title": {
            "standoff": 15
           },
           "zerolinecolor": "white",
           "zerolinewidth": 2
          }
         }
        },
        "title": {
         "font": {
          "family": "Arial",
          "size": 24
         },
         "text": "Herkunftskontinent der Blumen",
         "x": 0.5,
         "y": 0.9
        }
       }
      }
     },
     "metadata": {},
     "output_type": "display_data"
    }
   ],
   "source": [
    "font_family = 'Arial'\n",
    "\n",
    "df[\"Herkunftskontinent\"] = df[\"Herkunftskontinent\"].str.split(\", \")\n",
    "df = df.explode(\"Herkunftskontinent\")\n",
    "\n",
    "#counts all instances of continents\n",
    "origin_counts = df[\"Herkunftskontinent\"].value_counts()\n",
    "\n",
    "#plotly pastell color palette\n",
    "colors = px.colors.qualitative.Pastel\n",
    "\n",
    "#creates chart\n",
    "fig = px.pie(values=origin_counts, names=origin_counts.index, title=\"Herkunftskontinent der Blumen\", hole=0.5,\n",
    "             color_discrete_sequence=colors)\n",
    "\n",
    "#layout adjustments\n",
    "fig.update_layout(title={'font': {'family': font_family, 'size': 24}, 'x': 0.5, 'y': 0.9},\n",
    "                  font={'family': font_family, 'size': 12},\n",
    "                  legend_title='Kontinente',\n",
    "                  legend={'x': 0.75,  'y': 0.5})\n",
    "\n",
    "fig.show()"
   ]
  },
  {
   "attachments": {},
   "cell_type": "markdown",
   "id": "c988161c",
   "metadata": {},
   "source": [
    "### Kuchen-Diagramm: Europa vs Asien"
   ]
  },
  {
   "cell_type": "code",
   "execution_count": 8,
   "id": "81b5851b",
   "metadata": {},
   "outputs": [
    {
     "data": {
      "application/vnd.plotly.v1+json": {
       "config": {
        "plotlyServerURL": "https://plot.ly"
       },
       "data": [
        {
         "domain": {
          "x": [
           0,
           1
          ],
          "y": [
           0,
           1
          ]
         },
         "hovertemplate": "label=%{label}<br>value=%{value}<extra></extra>",
         "labels": [
          "Asia",
          "Europe"
         ],
         "legendgroup": "",
         "name": "",
         "showlegend": true,
         "type": "pie",
         "values": [
          49,
          41
         ]
        }
       ],
       "layout": {
        "font": {
         "family": "Arial",
         "size": 12
        },
        "legend": {
         "title": {
          "text": "Gewählte Kontinente"
         },
         "tracegroupgap": 0,
         "x": 0.7,
         "y": 0.5
        },
        "template": {
         "data": {
          "bar": [
           {
            "error_x": {
             "color": "#2a3f5f"
            },
            "error_y": {
             "color": "#2a3f5f"
            },
            "marker": {
             "line": {
              "color": "#E5ECF6",
              "width": 0.5
             },
             "pattern": {
              "fillmode": "overlay",
              "size": 10,
              "solidity": 0.2
             }
            },
            "type": "bar"
           }
          ],
          "barpolar": [
           {
            "marker": {
             "line": {
              "color": "#E5ECF6",
              "width": 0.5
             },
             "pattern": {
              "fillmode": "overlay",
              "size": 10,
              "solidity": 0.2
             }
            },
            "type": "barpolar"
           }
          ],
          "carpet": [
           {
            "aaxis": {
             "endlinecolor": "#2a3f5f",
             "gridcolor": "white",
             "linecolor": "white",
             "minorgridcolor": "white",
             "startlinecolor": "#2a3f5f"
            },
            "baxis": {
             "endlinecolor": "#2a3f5f",
             "gridcolor": "white",
             "linecolor": "white",
             "minorgridcolor": "white",
             "startlinecolor": "#2a3f5f"
            },
            "type": "carpet"
           }
          ],
          "choropleth": [
           {
            "colorbar": {
             "outlinewidth": 0,
             "ticks": ""
            },
            "type": "choropleth"
           }
          ],
          "contour": [
           {
            "colorbar": {
             "outlinewidth": 0,
             "ticks": ""
            },
            "colorscale": [
             [
              0,
              "#0d0887"
             ],
             [
              0.1111111111111111,
              "#46039f"
             ],
             [
              0.2222222222222222,
              "#7201a8"
             ],
             [
              0.3333333333333333,
              "#9c179e"
             ],
             [
              0.4444444444444444,
              "#bd3786"
             ],
             [
              0.5555555555555556,
              "#d8576b"
             ],
             [
              0.6666666666666666,
              "#ed7953"
             ],
             [
              0.7777777777777778,
              "#fb9f3a"
             ],
             [
              0.8888888888888888,
              "#fdca26"
             ],
             [
              1,
              "#f0f921"
             ]
            ],
            "type": "contour"
           }
          ],
          "contourcarpet": [
           {
            "colorbar": {
             "outlinewidth": 0,
             "ticks": ""
            },
            "type": "contourcarpet"
           }
          ],
          "heatmap": [
           {
            "colorbar": {
             "outlinewidth": 0,
             "ticks": ""
            },
            "colorscale": [
             [
              0,
              "#0d0887"
             ],
             [
              0.1111111111111111,
              "#46039f"
             ],
             [
              0.2222222222222222,
              "#7201a8"
             ],
             [
              0.3333333333333333,
              "#9c179e"
             ],
             [
              0.4444444444444444,
              "#bd3786"
             ],
             [
              0.5555555555555556,
              "#d8576b"
             ],
             [
              0.6666666666666666,
              "#ed7953"
             ],
             [
              0.7777777777777778,
              "#fb9f3a"
             ],
             [
              0.8888888888888888,
              "#fdca26"
             ],
             [
              1,
              "#f0f921"
             ]
            ],
            "type": "heatmap"
           }
          ],
          "heatmapgl": [
           {
            "colorbar": {
             "outlinewidth": 0,
             "ticks": ""
            },
            "colorscale": [
             [
              0,
              "#0d0887"
             ],
             [
              0.1111111111111111,
              "#46039f"
             ],
             [
              0.2222222222222222,
              "#7201a8"
             ],
             [
              0.3333333333333333,
              "#9c179e"
             ],
             [
              0.4444444444444444,
              "#bd3786"
             ],
             [
              0.5555555555555556,
              "#d8576b"
             ],
             [
              0.6666666666666666,
              "#ed7953"
             ],
             [
              0.7777777777777778,
              "#fb9f3a"
             ],
             [
              0.8888888888888888,
              "#fdca26"
             ],
             [
              1,
              "#f0f921"
             ]
            ],
            "type": "heatmapgl"
           }
          ],
          "histogram": [
           {
            "marker": {
             "pattern": {
              "fillmode": "overlay",
              "size": 10,
              "solidity": 0.2
             }
            },
            "type": "histogram"
           }
          ],
          "histogram2d": [
           {
            "colorbar": {
             "outlinewidth": 0,
             "ticks": ""
            },
            "colorscale": [
             [
              0,
              "#0d0887"
             ],
             [
              0.1111111111111111,
              "#46039f"
             ],
             [
              0.2222222222222222,
              "#7201a8"
             ],
             [
              0.3333333333333333,
              "#9c179e"
             ],
             [
              0.4444444444444444,
              "#bd3786"
             ],
             [
              0.5555555555555556,
              "#d8576b"
             ],
             [
              0.6666666666666666,
              "#ed7953"
             ],
             [
              0.7777777777777778,
              "#fb9f3a"
             ],
             [
              0.8888888888888888,
              "#fdca26"
             ],
             [
              1,
              "#f0f921"
             ]
            ],
            "type": "histogram2d"
           }
          ],
          "histogram2dcontour": [
           {
            "colorbar": {
             "outlinewidth": 0,
             "ticks": ""
            },
            "colorscale": [
             [
              0,
              "#0d0887"
             ],
             [
              0.1111111111111111,
              "#46039f"
             ],
             [
              0.2222222222222222,
              "#7201a8"
             ],
             [
              0.3333333333333333,
              "#9c179e"
             ],
             [
              0.4444444444444444,
              "#bd3786"
             ],
             [
              0.5555555555555556,
              "#d8576b"
             ],
             [
              0.6666666666666666,
              "#ed7953"
             ],
             [
              0.7777777777777778,
              "#fb9f3a"
             ],
             [
              0.8888888888888888,
              "#fdca26"
             ],
             [
              1,
              "#f0f921"
             ]
            ],
            "type": "histogram2dcontour"
           }
          ],
          "mesh3d": [
           {
            "colorbar": {
             "outlinewidth": 0,
             "ticks": ""
            },
            "type": "mesh3d"
           }
          ],
          "parcoords": [
           {
            "line": {
             "colorbar": {
              "outlinewidth": 0,
              "ticks": ""
             }
            },
            "type": "parcoords"
           }
          ],
          "pie": [
           {
            "automargin": true,
            "type": "pie"
           }
          ],
          "scatter": [
           {
            "fillpattern": {
             "fillmode": "overlay",
             "size": 10,
             "solidity": 0.2
            },
            "type": "scatter"
           }
          ],
          "scatter3d": [
           {
            "line": {
             "colorbar": {
              "outlinewidth": 0,
              "ticks": ""
             }
            },
            "marker": {
             "colorbar": {
              "outlinewidth": 0,
              "ticks": ""
             }
            },
            "type": "scatter3d"
           }
          ],
          "scattercarpet": [
           {
            "marker": {
             "colorbar": {
              "outlinewidth": 0,
              "ticks": ""
             }
            },
            "type": "scattercarpet"
           }
          ],
          "scattergeo": [
           {
            "marker": {
             "colorbar": {
              "outlinewidth": 0,
              "ticks": ""
             }
            },
            "type": "scattergeo"
           }
          ],
          "scattergl": [
           {
            "marker": {
             "colorbar": {
              "outlinewidth": 0,
              "ticks": ""
             }
            },
            "type": "scattergl"
           }
          ],
          "scattermapbox": [
           {
            "marker": {
             "colorbar": {
              "outlinewidth": 0,
              "ticks": ""
             }
            },
            "type": "scattermapbox"
           }
          ],
          "scatterpolar": [
           {
            "marker": {
             "colorbar": {
              "outlinewidth": 0,
              "ticks": ""
             }
            },
            "type": "scatterpolar"
           }
          ],
          "scatterpolargl": [
           {
            "marker": {
             "colorbar": {
              "outlinewidth": 0,
              "ticks": ""
             }
            },
            "type": "scatterpolargl"
           }
          ],
          "scatterternary": [
           {
            "marker": {
             "colorbar": {
              "outlinewidth": 0,
              "ticks": ""
             }
            },
            "type": "scatterternary"
           }
          ],
          "surface": [
           {
            "colorbar": {
             "outlinewidth": 0,
             "ticks": ""
            },
            "colorscale": [
             [
              0,
              "#0d0887"
             ],
             [
              0.1111111111111111,
              "#46039f"
             ],
             [
              0.2222222222222222,
              "#7201a8"
             ],
             [
              0.3333333333333333,
              "#9c179e"
             ],
             [
              0.4444444444444444,
              "#bd3786"
             ],
             [
              0.5555555555555556,
              "#d8576b"
             ],
             [
              0.6666666666666666,
              "#ed7953"
             ],
             [
              0.7777777777777778,
              "#fb9f3a"
             ],
             [
              0.8888888888888888,
              "#fdca26"
             ],
             [
              1,
              "#f0f921"
             ]
            ],
            "type": "surface"
           }
          ],
          "table": [
           {
            "cells": {
             "fill": {
              "color": "#EBF0F8"
             },
             "line": {
              "color": "white"
             }
            },
            "header": {
             "fill": {
              "color": "#C8D4E3"
             },
             "line": {
              "color": "white"
             }
            },
            "type": "table"
           }
          ]
         },
         "layout": {
          "annotationdefaults": {
           "arrowcolor": "#2a3f5f",
           "arrowhead": 0,
           "arrowwidth": 1
          },
          "autotypenumbers": "strict",
          "coloraxis": {
           "colorbar": {
            "outlinewidth": 0,
            "ticks": ""
           }
          },
          "colorscale": {
           "diverging": [
            [
             0,
             "#8e0152"
            ],
            [
             0.1,
             "#c51b7d"
            ],
            [
             0.2,
             "#de77ae"
            ],
            [
             0.3,
             "#f1b6da"
            ],
            [
             0.4,
             "#fde0ef"
            ],
            [
             0.5,
             "#f7f7f7"
            ],
            [
             0.6,
             "#e6f5d0"
            ],
            [
             0.7,
             "#b8e186"
            ],
            [
             0.8,
             "#7fbc41"
            ],
            [
             0.9,
             "#4d9221"
            ],
            [
             1,
             "#276419"
            ]
           ],
           "sequential": [
            [
             0,
             "#0d0887"
            ],
            [
             0.1111111111111111,
             "#46039f"
            ],
            [
             0.2222222222222222,
             "#7201a8"
            ],
            [
             0.3333333333333333,
             "#9c179e"
            ],
            [
             0.4444444444444444,
             "#bd3786"
            ],
            [
             0.5555555555555556,
             "#d8576b"
            ],
            [
             0.6666666666666666,
             "#ed7953"
            ],
            [
             0.7777777777777778,
             "#fb9f3a"
            ],
            [
             0.8888888888888888,
             "#fdca26"
            ],
            [
             1,
             "#f0f921"
            ]
           ],
           "sequentialminus": [
            [
             0,
             "#0d0887"
            ],
            [
             0.1111111111111111,
             "#46039f"
            ],
            [
             0.2222222222222222,
             "#7201a8"
            ],
            [
             0.3333333333333333,
             "#9c179e"
            ],
            [
             0.4444444444444444,
             "#bd3786"
            ],
            [
             0.5555555555555556,
             "#d8576b"
            ],
            [
             0.6666666666666666,
             "#ed7953"
            ],
            [
             0.7777777777777778,
             "#fb9f3a"
            ],
            [
             0.8888888888888888,
             "#fdca26"
            ],
            [
             1,
             "#f0f921"
            ]
           ]
          },
          "colorway": [
           "#636efa",
           "#EF553B",
           "#00cc96",
           "#ab63fa",
           "#FFA15A",
           "#19d3f3",
           "#FF6692",
           "#B6E880",
           "#FF97FF",
           "#FECB52"
          ],
          "font": {
           "color": "#2a3f5f"
          },
          "geo": {
           "bgcolor": "white",
           "lakecolor": "white",
           "landcolor": "#E5ECF6",
           "showlakes": true,
           "showland": true,
           "subunitcolor": "white"
          },
          "hoverlabel": {
           "align": "left"
          },
          "hovermode": "closest",
          "mapbox": {
           "style": "light"
          },
          "paper_bgcolor": "white",
          "plot_bgcolor": "#E5ECF6",
          "polar": {
           "angularaxis": {
            "gridcolor": "white",
            "linecolor": "white",
            "ticks": ""
           },
           "bgcolor": "#E5ECF6",
           "radialaxis": {
            "gridcolor": "white",
            "linecolor": "white",
            "ticks": ""
           }
          },
          "scene": {
           "xaxis": {
            "backgroundcolor": "#E5ECF6",
            "gridcolor": "white",
            "gridwidth": 2,
            "linecolor": "white",
            "showbackground": true,
            "ticks": "",
            "zerolinecolor": "white"
           },
           "yaxis": {
            "backgroundcolor": "#E5ECF6",
            "gridcolor": "white",
            "gridwidth": 2,
            "linecolor": "white",
            "showbackground": true,
            "ticks": "",
            "zerolinecolor": "white"
           },
           "zaxis": {
            "backgroundcolor": "#E5ECF6",
            "gridcolor": "white",
            "gridwidth": 2,
            "linecolor": "white",
            "showbackground": true,
            "ticks": "",
            "zerolinecolor": "white"
           }
          },
          "shapedefaults": {
           "line": {
            "color": "#2a3f5f"
           }
          },
          "ternary": {
           "aaxis": {
            "gridcolor": "white",
            "linecolor": "white",
            "ticks": ""
           },
           "baxis": {
            "gridcolor": "white",
            "linecolor": "white",
            "ticks": ""
           },
           "bgcolor": "#E5ECF6",
           "caxis": {
            "gridcolor": "white",
            "linecolor": "white",
            "ticks": ""
           }
          },
          "title": {
           "x": 0.05
          },
          "xaxis": {
           "automargin": true,
           "gridcolor": "white",
           "linecolor": "white",
           "ticks": "",
           "title": {
            "standoff": 15
           },
           "zerolinecolor": "white",
           "zerolinewidth": 2
          },
          "yaxis": {
           "automargin": true,
           "gridcolor": "white",
           "linecolor": "white",
           "ticks": "",
           "title": {
            "standoff": 15
           },
           "zerolinecolor": "white",
           "zerolinewidth": 2
          }
         }
        },
        "title": {
         "font": {
          "family": "Arial",
          "size": 24
         },
         "text": "Asia vs Europe",
         "x": 0.5,
         "y": 0.9
        }
       }
      }
     },
     "metadata": {},
     "output_type": "display_data"
    }
   ],
   "source": [
    "font_family = 'Arial'\n",
    "\n",
    "asia_europe = df_filtered[\"Herkunftskontinent\"].value_counts()\n",
    "\n",
    "#plotly pastell color palette\n",
    "colors = px.colors.qualitative.Pastel\n",
    "\n",
    "#creates pie chart form asia europe series\n",
    "fig = px.pie(values=asia_europe, names=asia_europe.index, title=\"Asia vs Europe\")\n",
    "                                                                                      \n",
    "#add dropdown\n",
    "\n",
    "#layout adjustments\n",
    "fig.update_layout(\n",
    "    title={'font': {'family': font_family, 'size': 24}, 'x': 0.5, 'y': 0.9},\n",
    "    font={'family': font_family, 'size': 12},\n",
    "    legend_title='Gewählte Kontinente',\n",
    "    legend={'x': 0.7,  'y': 0.5}\n",
    "    )\n",
    "\n",
    "fig.show()"
   ]
  },
  {
   "cell_type": "code",
   "execution_count": 9,
   "id": "b5cf3f56",
   "metadata": {},
   "outputs": [],
   "source": [
    "### Aufgabe 5a) and 5b)"
   ]
  },
  {
   "cell_type": "code",
   "execution_count": 10,
   "id": "aec65936",
   "metadata": {},
   "outputs": [
    {
     "name": "stdout",
     "output_type": "stream",
     "text": [
      "Dash is running on http://127.0.0.1:8000/\n",
      "\n",
      "Dash is running on http://127.0.0.1:8000/\n",
      "\n",
      " * Serving Flask app '__main__'\n",
      " * Debug mode: off\n"
     ]
    },
    {
     "name": "stderr",
     "output_type": "stream",
     "text": [
      "WARNING: This is a development server. Do not use it in a production deployment. Use a production WSGI server instead.\n",
      " * Running on http://127.0.0.1:8000\n",
      "Press CTRL+C to quit\n"
     ]
    }
   ],
   "source": [
    "import math\n",
    "from dash import Dash, dcc, html, Input, Output\n",
    "import plotly.express as px\n",
    "import numpy as np\n",
    "import pandas as pd\n",
    "import dash_bootstrap_components as dbc\n",
    "\n",
    "app = Dash(__name__, external_stylesheets=[dbc.themes.BOOTSTRAP])\n",
    "\n",
    "df = pd.DataFrame({'y': np.random.normal(loc=0, scale=10, size=1000),\n",
    "                   'x': np.random.normal(loc=10, scale=2, size=1000)})\n",
    "\n",
    "app.layout = html.Div([html.H1(\"Dashboard 2\"),\n",
    "    # Aufgabe 5a\n",
    "    dbc.Row([\n",
    "        dbc.Col([dcc.Dropdown(options=['red', 'green', 'blue'], value='red', id='color', multi=False)], width=6),\n",
    "        dbc.Col([dcc.RangeSlider(min=math.floor(df['y'].min()), max=math.ceil(df['y'].max()), value=[math.floor(df['y'].min()), math.ceil(df['y'].max())], id=\"my-range-slider\")], width=6)\n",
    "        ]),\n",
    "\n",
    "    # Aufgabe 5b\n",
    "    dbc.Row([\n",
    "        dbc.Col([dcc.Slider(min=math.floor(df['y'].min()), max=math.ceil(df['y'].max()), id=\"min_value\")], width=6),\n",
    "        dbc.Col([dcc.Dropdown(options=['red', 'green', 'blue'], value='red', id='color_2', multi=False)], width=6),\n",
    "    ]),\n",
    "\n",
    "    # Darstellung der Diagramme\n",
    "    dbc.Row([dbc.Col([dcc.Graph(id=\"graph_1\")], width=6),\n",
    "             dbc.Col([dcc.Graph(id=\"graph_2\")], width=6)\n",
    "    ])], className=\"m-4\")\n",
    "\n",
    "# Diagramm 1 --> Aufgabe 5a und 5b\n",
    "@app.callback(Output(\"graph_1\", \"figure\"), Input(\"color\", \"value\"), Input(\"min_value\", \"value\"))\n",
    "\n",
    "def update_graph_1(dropdown_value_color, min_value):\n",
    "    dff = df[df['y']> min_value]\n",
    "    fig = px.histogram(dff, x=\"y\", color_discrete_sequence=[dropdown_value_color])\n",
    "    fig.update_layout()\n",
    "    return fig\n",
    "\n",
    "\n",
    "# Diagramm 2 --> Aufgabe 5a\n",
    "@app.callback(Output(\"graph_2\", \"figure\"), [Input(\"my-range-slider\", \"value\"), Input(\"color_2\", \"value\")])\n",
    "\n",
    "def update_graph_2(range_values, color):\n",
    "    dff = df[(df['y'] > range_values[0]) & (df['y'] < range_values[1])]\n",
    "    fig = px.scatter(dff, x='x', y='y', color_discrete_sequence=[color])\n",
    "    fig.update_layout()\n",
    "    return fig\n",
    "\n",
    "\n",
    "if __name__ == '__main__':\n",
    "    app.run_server(debug=False, port=8000)"
   ]
  },
  {
   "cell_type": "code",
   "execution_count": null,
   "id": "3437bdd6",
   "metadata": {},
   "outputs": [],
   "source": [
    "### Aufgabe 6 a) und b)"
   ]
  },
  {
   "cell_type": "code",
   "execution_count": 11,
   "id": "942f9886",
   "metadata": {},
   "outputs": [
    {
     "name": "stdout",
     "output_type": "stream",
     "text": [
      "Dash is running on http://127.0.0.1:8010/\n",
      "\n",
      "Dash is running on http://127.0.0.1:8010/\n",
      "\n",
      "Dash is running on http://127.0.0.1:8010/\n",
      "\n",
      " * Serving Flask app '__main__'\n",
      " * Debug mode: off\n"
     ]
    },
    {
     "name": "stderr",
     "output_type": "stream",
     "text": [
      "WARNING: This is a development server. Do not use it in a production deployment. Use a production WSGI server instead.\n",
      " * Running on http://127.0.0.1:8010\n",
      "Press CTRL+C to quit\n"
     ]
    }
   ],
   "source": [
    "import math\n",
    "from dash import Dash, dcc, html, Input, Output\n",
    "import plotly.express as px\n",
    "import numpy as np\n",
    "import pandas as pd\n",
    "import dash_bootstrap_components as dbc\n",
    "\n",
    "app = Dash(__name__, external_stylesheets=[dbc.themes.BOOTSTRAP])\n",
    "\n",
    "# Random Daten --> Tab 1\n",
    "df_random = pd.DataFrame({'y': np.random.normal(loc=0, scale=10, size=1000),\n",
    "                          'x': np.random.normal(loc=10, scale=2, size=1000)})\n",
    "\n",
    "# Daten --> Tab 2 \n",
    "df_testing = pd.DataFrame({\n",
    " 'x': [1, 2, 3, 4, 5],\n",
    " 'Monstera': [1, 4, 2, 3, 7],\n",
    " 'Strilezia': [2, 3, 1, 5, 6],\n",
    " 'Wüstenrose': [3, 5, 4, 2, 8],\n",
    " 'Juwelorchidee': [4, 2, 6, 1, 9]\n",
    "})\n",
    "\n",
    "# Unser Datensatz --> Tab 3\n",
    "df_own = pd.read_csv('flower_data.csv')\n",
    "\n",
    "dict = {'name': 'Name',\n",
    "        'height (cm)': 'Höhe',\n",
    "        'longevity (years)': 'Lebenserwartung',\n",
    "        'place of origin': 'Herkunftskontinent',\n",
    "        'color': 'Farbe',\n",
    "        'climate': 'Klima',\n",
    "        'cut flowers': 'Geschnittene Blume',\n",
    "        'perfumes': 'Parfum',\n",
    "        'medicine': 'Medizin',\n",
    "        'average number of petals': 'Durchschnittliche Anzhal Blätter'}\n",
    "\n",
    "df_own.rename(columns=dict, inplace=True)\n",
    "\n",
    "\n",
    "app.layout = html.Div([\n",
    "    html.Div([html.H1(\"Dashboard 3\")], className=\"header\"),\n",
    "    html.Div([\n",
    "        dcc.Tabs(id=\"tabs\", children=[\n",
    "\n",
    "            # Tab 1 (vorgegeben)\n",
    "            dcc.Tab(label='Tab One', id=\"tab_1_graphs\", children=[\n",
    "                html.Div([\n",
    "                    dbc.Row([\n",
    "                        dbc.Col([dcc.Dropdown(options=['red', 'green', 'blue'], value='red', id='color', multi=False)], width=6),\n",
    "                        dbc.Col([dcc.Slider(min=math.floor(df['y'].min()), max=math.ceil(df['y'].max()), id=\"min_value\")], width=6)\n",
    "                    ]),\n",
    "                    dbc.Row([\n",
    "                        dbc.Col([dcc.Graph(id=\"graph_1\")], width=6),\n",
    "                        dbc.Col([dcc.Graph(id=\"graph_2\")], width=6)\n",
    "                    ])\n",
    "                ], className=\"tab_content\")\n",
    "            ]),\n",
    "\n",
    "            # Tab 2 --> Aufgabe 6a\n",
    "            dcc.Tab(label='Tab Two', id=\"tab_2_graphs\", children=[\n",
    "                html.Div([\n",
    "                    dbc.Row([\n",
    "                        dbc.Col([dcc.Dropdown(options=['red', 'green', 'blue'], value='red', id='color', multi=False)], width=6),\n",
    "                        dbc.Col(dcc.Graph(id=\"graph_3\"), width=6)\n",
    "            ])\n",
    "                ])\n",
    "            ]),\n",
    "\n",
    "            # Tab 3 --> für Aufgabe 6b\n",
    "            dcc.Tab(label='Tab Three', id=\"tab_3_graphs\", children=[\n",
    "                html.Div([\n",
    "                    dbc.Row([\n",
    "                        dbc.Col([dcc.Graph(id=\"graph_4\")], width=12)\n",
    "                    ]),\n",
    "                    dbc.Row([\n",
    "                        dbc.Col([dcc.Graph(id=\"graph_5\")], width=12),\n",
    "                    ])\n",
    "                ])\n",
    "            ])\n",
    "        ])\n",
    "    ])\n",
    "])\n",
    "\n",
    "# vorgegebener Code --> Tab 1\n",
    "@app.callback(Output(\"graph_1\", \"figure\"), Input(\"color\", \"value\"))\n",
    "def update_graph_1(dropdown_value_color):\n",
    "    fig = px.histogram(df, x=\"y\", color_discrete_sequence=[dropdown_value_color])\n",
    "    fig.update_layout(template=\"plotly_white\")\n",
    "    return fig\n",
    "\n",
    "# vorgegebener Code --> Tab 1\n",
    "@app.callback(Output(\"graph_2\", \"figure\"), Input(\"min_value\", \"value\"))\n",
    "def update_graph_2(min_value):\n",
    "    if min_value:\n",
    "        dff = df[df['y'] > min_value]\n",
    "    else:\n",
    "        dff = df\n",
    "    fig = px.scatter(dff, x='x', y='y')\n",
    "    fig.update_layout(template=\"plotly_white\")\n",
    "    return fig\n",
    "\n",
    "# Tab 2 --> Aufgabe 6a\n",
    "@app.callback(Output('graph_3', 'figure'), Input('color', 'value'))\n",
    "\n",
    "def update_graph_3(color):\n",
    "    fig = px.line(df_testing, x='x', y=['Monstera', 'Strilezia', 'Wüstenrose', 'Juwelorchidee'], color_discrete_sequence=[color])\n",
    "    fig.update_layout(template=\"plotly_white\")\n",
    "    fig.update_xaxes(title=\"Anzahl Stunden gespielter klassischer Musik für die Pflanze\")   \n",
    "    fig.update_yaxes(title=\"Anzahl Lebensjahre der Pflanze\")\n",
    "    return fig\n",
    "\n",
    "\n",
    "# Tab 3 --> Aufgabe 6b\n",
    "@app.callback(Output(\"graph_4\", \"figure\"), Input(\"min_value\", \"value\"))\n",
    "def update_graph_4(min_value):\n",
    "    if min_value:\n",
    "        dff = df_own[df_own['Höhe'] > min_value]\n",
    "    else:\n",
    "        dff = df_own\n",
    "    \n",
    "    # Daten für das Balkendiagramm\n",
    "    count_by_color = dff['Farbe'].value_counts()\n",
    "    colors = count_by_color.index.tolist()\n",
    "    counts = count_by_color.tolist()\n",
    "    \n",
    "    # Erstellen des Balkendiagramms\n",
    "    fig = px.bar(x=colors, y=counts, title=\"Anzahl der Blumen für jede Farbe bzw. Farbkombination\")\n",
    "    fig.update_layout(template=\"plotly_white\")\n",
    "    fig.update_xaxes(title=\"Farbe\")\n",
    "    fig.update_yaxes(title=\"Anzahl der Blumen\")\n",
    "    return fig\n",
    "\n",
    "# Tab 3 --> Aufgabe 6b\n",
    "@app.callback(Output(\"graph_5\", \"figure\"), Input(\"min_value\", \"value\"))\n",
    "def update_graph_5(min_value):\n",
    "    if min_value:\n",
    "        dff = df_own[df_own['Höhe'] > min_value]\n",
    "    else:\n",
    "        dff = df_own\n",
    "    fig = px.scatter(dff, x='Durchschnittliche Anzhal Blätter', y=\"Höhe\", title=\"Durchschnittliche Anzahl der Blätter in Bezug auf die Höhe der Blume\")\n",
    "    return fig\n",
    "\n",
    "if __name__ == '__main__':\n",
    "    app.run_server(debug=False, port=8010)"
   ]
  },
  {
   "cell_type": "code",
   "execution_count": null,
   "id": "9d61605b",
   "metadata": {},
   "outputs": [],
   "source": [
    "### Aufgabe 7 a) und b)"
   ]
  },
  {
   "cell_type": "code",
   "execution_count": 4,
   "id": "f35263fb",
   "metadata": {},
   "outputs": [
    {
     "ename": "TypeError",
     "evalue": "DataFrame.__init__() got an unexpected keyword argument 'gcolumns'",
     "output_type": "error",
     "traceback": [
      "\u001b[1;31m---------------------------------------------------------------------------\u001b[0m",
      "\u001b[1;31mTypeError\u001b[0m                                 Traceback (most recent call last)",
      "Cell \u001b[1;32mIn[4], line 25\u001b[0m\n\u001b[0;32m     21\u001b[0m COLORS \u001b[39m=\u001b[39m {\u001b[39m'\u001b[39m\u001b[39m0\u001b[39m\u001b[39m'\u001b[39m: \u001b[39m\"\u001b[39m\u001b[39mred\u001b[39m\u001b[39m\"\u001b[39m, \u001b[39m'\u001b[39m\u001b[39m1\u001b[39m\u001b[39m'\u001b[39m: \u001b[39m\"\u001b[39m\u001b[39mblue\u001b[39m\u001b[39m\"\u001b[39m, \u001b[39m'\u001b[39m\u001b[39m2\u001b[39m\u001b[39m'\u001b[39m: \u001b[39m\"\u001b[39m\u001b[39mgrey\u001b[39m\u001b[39m\"\u001b[39m}\n\u001b[0;32m     23\u001b[0m X, y \u001b[39m=\u001b[39m make_blobs(n_samples\u001b[39m=\u001b[39m\u001b[39m100\u001b[39m, centers\u001b[39m=\u001b[39m\u001b[39m3\u001b[39m, n_features\u001b[39m=\u001b[39m\u001b[39m2\u001b[39m, random_state\u001b[39m=\u001b[39m\u001b[39m0\u001b[39m)\n\u001b[1;32m---> 25\u001b[0m cluster_df \u001b[39m=\u001b[39m pd\u001b[39m.\u001b[39;49mDataFrame(data\u001b[39m=\u001b[39;49mX, gcolumns\u001b[39m=\u001b[39;49m[\u001b[39m\"\u001b[39;49m\u001b[39mX\u001b[39;49m\u001b[39m\"\u001b[39;49m, \u001b[39m\"\u001b[39;49m\u001b[39mY\u001b[39;49m\u001b[39m\"\u001b[39;49m])\n\u001b[0;32m     26\u001b[0m cluster_df[\u001b[39m'\u001b[39m\u001b[39mcluster\u001b[39m\u001b[39m'\u001b[39m] \u001b[39m=\u001b[39m [\u001b[39mstr\u001b[39m(i) \u001b[39mfor\u001b[39;00m i \u001b[39min\u001b[39;00m y]\n\u001b[0;32m     28\u001b[0m app\u001b[39m.\u001b[39mlayout \u001b[39m=\u001b[39m html\u001b[39m.\u001b[39mDiv([html\u001b[39m.\u001b[39mDiv([html\u001b[39m.\u001b[39mH1(\u001b[39m\"\u001b[39m\u001b[39mDashboard 4\u001b[39m\u001b[39m\"\u001b[39m)], className\u001b[39m=\u001b[39m\u001b[39m\"\u001b[39m\u001b[39mheader\u001b[39m\u001b[39m\"\u001b[39m), html\u001b[39m.\u001b[39mDiv([dcc\u001b[39m.\u001b[39mTabs(\u001b[39mid\u001b[39m\u001b[39m=\u001b[39m\u001b[39m\"\u001b[39m\u001b[39mtabs\u001b[39m\u001b[39m\"\u001b[39m, children\u001b[39m=\u001b[39m[\n\u001b[0;32m     29\u001b[0m                  dcc\u001b[39m.\u001b[39mTab(label\u001b[39m=\u001b[39m\u001b[39m'\u001b[39m\u001b[39mTab One\u001b[39m\u001b[39m'\u001b[39m, \u001b[39mid\u001b[39m\u001b[39m=\u001b[39m\u001b[39m\"\u001b[39m\u001b[39mtab_1_graphs\u001b[39m\u001b[39m\"\u001b[39m, children\u001b[39m=\u001b[39m[html\u001b[39m.\u001b[39mDiv([\n\u001b[0;32m     30\u001b[0m                       dbc\u001b[39m.\u001b[39mRow([dbc\u001b[39m.\u001b[39mCol([dcc\u001b[39m.\u001b[39mDropdown(options\u001b[39m=\u001b[39m[\u001b[39m'\u001b[39m\u001b[39mred\u001b[39m\u001b[39m'\u001b[39m,\u001b[39m'\u001b[39m\u001b[39mgreen\u001b[39m\u001b[39m'\u001b[39m,\u001b[39m'\u001b[39m\u001b[39mblue\u001b[39m\u001b[39m'\u001b[39m], value\u001b[39m=\u001b[39m\u001b[39m'\u001b[39m\u001b[39mred\u001b[39m\u001b[39m'\u001b[39m, \u001b[39mid\u001b[39m\u001b[39m=\u001b[39m\u001b[39m'\u001b[39m\u001b[39mcolor\u001b[39m\u001b[39m'\u001b[39m, multi\u001b[39m=\u001b[39m\u001b[39mFalse\u001b[39;00m)], width\u001b[39m=\u001b[39m\u001b[39m6\u001b[39m),\n\u001b[1;32m   (...)\u001b[0m\n\u001b[0;32m     35\u001b[0m                       dbc\u001b[39m.\u001b[39mRow([dbc\u001b[39m.\u001b[39mCol([dcc\u001b[39m.\u001b[39mGraph(\u001b[39mid\u001b[39m\u001b[39m=\u001b[39m\u001b[39m\"\u001b[39m\u001b[39mgraph_3\u001b[39m\u001b[39m\"\u001b[39m)], width\u001b[39m=\u001b[39m\u001b[39m8\u001b[39m),\n\u001b[0;32m     36\u001b[0m                                dbc\u001b[39m.\u001b[39mCol([dcc\u001b[39m.\u001b[39mGraph(\u001b[39mid\u001b[39m\u001b[39m=\u001b[39m\u001b[39m\"\u001b[39m\u001b[39mgraph_4\u001b[39m\u001b[39m\"\u001b[39m)], width\u001b[39m=\u001b[39m\u001b[39m4\u001b[39m)])], className\u001b[39m=\u001b[39m\u001b[39m\"\u001b[39m\u001b[39mtab_content\u001b[39m\u001b[39m\"\u001b[39m)]),])], className\u001b[39m=\u001b[39m\u001b[39m\"\u001b[39m\u001b[39mcontent\u001b[39m\u001b[39m\"\u001b[39m)])\n",
      "\u001b[1;31mTypeError\u001b[0m: DataFrame.__init__() got an unexpected keyword argument 'gcolumns'"
     ]
    }
   ],
   "source": [
    "import math\n",
    "from dash import Dash, dcc, html, Input, Output\n",
    "import plotly.express as px\n",
    "import plotly.graph_objects as go\n",
    "import numpy as np\n",
    "import pandas as pd\n",
    "import dash_bootstrap_components as dbc\n",
    "from sklearn.datasets import make_blobs\n",
    "\n",
    "# new: more than one plot in a callback\n",
    "# new: one plot as an input for another plot\n",
    "# new: plotly go object\n",
    "\n",
    "app = Dash(__name__, external_stylesheets=[dbc.themes.BOOTSTRAP])\n",
    "\n",
    "df = pd.DataFrame({'y': np.random.normal(loc=0, scale=10, size=1000),\n",
    "                   'x': np.random.normal(loc=10, scale=2, size=1000)})\n",
    "\n",
    "# define cluster colors\n",
    "\n",
    "COLORS = {'0': \"red\", '1': \"blue\", '2': \"grey\"}\n",
    "\n",
    "X, y = make_blobs(n_samples=100, centers=3, n_features=2, random_state=0)\n",
    "\n",
    "cluster_df = pd.DataFrame(data=X, gcolumns=[\"X\", \"Y\"])\n",
    "cluster_df['cluster'] = [str(i) for i in y]\n",
    "\n",
    "app.layout = html.Div([html.Div([html.H1(\"Dashboard 4\")], className=\"header\"), html.Div([dcc.Tabs(id=\"tabs\", children=[\n",
    "                 dcc.Tab(label='Tab One', id=\"tab_1_graphs\", children=[html.Div([\n",
    "                      dbc.Row([dbc.Col([dcc.Dropdown(options=['red','green','blue'], value='red', id='color', multi=False)], width=6),\n",
    "                               dbc.Col([dcc.Slider(min=math.floor(df['y'].min()), max=math.ceil(df['y'].max()), id=\"min_value\")], width=6)]),\n",
    "                      dbc.Row([dbc.Col([dcc.Graph(id=\"graph_1\")], width=6),\n",
    "                               dbc.Col([dcc.Graph(id=\"graph_2\")], width=6)])], className=\"tab_content\"),]),\n",
    "                 dcc.Tab(label='Tab Two', id=\"tab_2_graphs\", children=[html.Div([\n",
    "                      dbc.Row([dbc.Col([dcc.Graph(id=\"graph_3\")], width=8),\n",
    "                               dbc.Col([dcc.Graph(id=\"graph_4\")], width=4)])], className=\"tab_content\")]),])], className=\"content\")])\n",
    "\n",
    "@app.callback(Output(\"graph_1\", \"figure\"), Input(\"color\", \"value\"))\n",
    "\n",
    "def update_graph_1(dropdown_value_color):\n",
    "    fig = px.histogram(df, x=\"y\", color_discrete_sequence=[dropdown_value_color])\n",
    "    fig.update_layout(template=\"plotly_white\")\n",
    "    return fig\n",
    "\n",
    "@app.callback(Output(\"graph_2\", \"figure\"), Input(\"min_value\", \"value\"))\n",
    "\n",
    "def update_graph_2(min_value):\n",
    "    if min_value:\n",
    "        dff = df[df['y'] > min_value]\n",
    "    else:\n",
    "        dff = df\n",
    "    fig = px.scatter(dff, x='x', y='y')\n",
    "    fig.update_layout(template=\"plotly_white\")\n",
    "    return fig\n",
    "\n",
    "@app.callback(Output(\"graph_3\", \"figure\"), Output(\"graph_4\", \"figure\"), Input(\"graph_3\", \"relayoutData\"))\n",
    "\n",
    "def update_graph_3_and_4(selected_data):\n",
    "    if selected_data is None or (isinstance(selected_data, dict) and 'xaxis.range[0]' not in selected_data):\n",
    "        cluster_dff = cluster_df\n",
    "    else:\n",
    "        cluster_dff = cluster_df[(cluster_df['X'] >= selected_data.get('xaxis.range[0]')) &\n",
    "                                 (cluster_df['X'] <= selected_data.get('xaxis.range[1]')) &\n",
    "                                 (cluster_df['Y'] >= selected_data.get('yaxis.range[0]')) &\n",
    "                                 (cluster_df['Y'] <= selected_data.get('yaxis.range[1]'))]\n",
    "\n",
    "    fig3 = px.scatter(cluster_dff, x=\"X\", y=\"Y\", color=\"cluster\", color_discrete_map=COLORS, category_orders= {\"cluster\": [\"0\", \"1\", \"2\"]}, height=750)\n",
    "    fig3.update_layout(template=\"plotly_white\", coloraxis_showscale=False)\n",
    "    fig3.update_traces(marker=dict(size=8))\n",
    "\n",
    "    group_counts = cluster_dff[['cluster', 'X']].groupby('cluster').count()\n",
    "\n",
    "    fig4 = go.Figure(data=[go.Bar(x=group_counts.index, y=group_counts['X'], marker_color= [COLORS.get(i) for i in group_counts.index])])\n",
    "    fig4.update_layout(height=750, template=\"plotly_white\", title=\"<b>Counts per cluster</b>\", xaxis_title=\"cluster\", title_font_size= 25)\n",
    "    return fig3, fig4\n",
    "\n",
    "if __name__ == '__main__':\n",
    "    app.run_server(debug=True, port=8012)"
   ]
  }
 ],
 "metadata": {
  "kernelspec": {
   "display_name": "DADE",
   "language": "python",
   "name": "python3"
  },
  "language_info": {
   "codemirror_mode": {
    "name": "ipython",
    "version": 3
   },
   "file_extension": ".py",
   "mimetype": "text/x-python",
   "name": "python",
   "nbconvert_exporter": "python",
   "pygments_lexer": "ipython3",
   "version": "3.10.11"
  }
 },
 "nbformat": 4,
 "nbformat_minor": 5
}
